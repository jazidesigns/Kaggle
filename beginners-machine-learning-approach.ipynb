{
 "cells": [
  {
   "cell_type": "code",
   "execution_count": 1,
   "id": "3cb67291",
   "metadata": {
    "_cell_guid": "b1076dfc-b9ad-4769-8c92-a6c4dae69d19",
    "_uuid": "8f2839f25d086af736a60e9eeb907d3b93b6e0e5",
    "execution": {
     "iopub.execute_input": "2021-11-25T11:59:00.743960Z",
     "iopub.status.busy": "2021-11-25T11:59:00.743191Z",
     "iopub.status.idle": "2021-11-25T11:59:01.976369Z",
     "shell.execute_reply": "2021-11-25T11:59:01.975291Z",
     "shell.execute_reply.started": "2021-11-25T11:43:45.788384Z"
    },
    "papermill": {
     "duration": 1.262922,
     "end_time": "2021-11-25T11:59:01.976542",
     "exception": false,
     "start_time": "2021-11-25T11:59:00.713620",
     "status": "completed"
    },
    "tags": []
   },
   "outputs": [],
   "source": [
    "import numpy as np\n",
    "import pandas as pd\n",
    "\n",
    "from sklearn.tree import DecisionTreeRegressor\n",
    "from sklearn.ensemble import RandomForestRegressor\n",
    "from sklearn.model_selection import train_test_split\n",
    "from sklearn.metrics import mean_absolute_error"
   ]
  },
  {
   "cell_type": "markdown",
   "id": "221abaa5",
   "metadata": {
    "papermill": {
     "duration": 0.015157,
     "end_time": "2021-11-25T11:59:02.007465",
     "exception": false,
     "start_time": "2021-11-25T11:59:01.992308",
     "status": "completed"
    },
    "tags": []
   },
   "source": [
    "### Import Dataset"
   ]
  },
  {
   "cell_type": "code",
   "execution_count": 2,
   "id": "44e9ba10",
   "metadata": {
    "execution": {
     "iopub.execute_input": "2021-11-25T11:59:02.039477Z",
     "iopub.status.busy": "2021-11-25T11:59:02.038792Z",
     "iopub.status.idle": "2021-11-25T11:59:02.175380Z",
     "shell.execute_reply": "2021-11-25T11:59:02.174871Z",
     "shell.execute_reply.started": "2021-11-25T11:42:40.747971Z"
    },
    "papermill": {
     "duration": 0.153754,
     "end_time": "2021-11-25T11:59:02.175525",
     "exception": false,
     "start_time": "2021-11-25T11:59:02.021771",
     "status": "completed"
    },
    "tags": []
   },
   "outputs": [
    {
     "data": {
      "text/html": [
       "<div>\n",
       "<style scoped>\n",
       "    .dataframe tbody tr th:only-of-type {\n",
       "        vertical-align: middle;\n",
       "    }\n",
       "\n",
       "    .dataframe tbody tr th {\n",
       "        vertical-align: top;\n",
       "    }\n",
       "\n",
       "    .dataframe thead th {\n",
       "        text-align: right;\n",
       "    }\n",
       "</style>\n",
       "<table border=\"1\" class=\"dataframe\">\n",
       "  <thead>\n",
       "    <tr style=\"text-align: right;\">\n",
       "      <th></th>\n",
       "      <th>Suburb</th>\n",
       "      <th>Address</th>\n",
       "      <th>Rooms</th>\n",
       "      <th>Type</th>\n",
       "      <th>Price</th>\n",
       "      <th>Method</th>\n",
       "      <th>SellerG</th>\n",
       "      <th>Date</th>\n",
       "      <th>Distance</th>\n",
       "      <th>Postcode</th>\n",
       "      <th>...</th>\n",
       "      <th>Bathroom</th>\n",
       "      <th>Car</th>\n",
       "      <th>Landsize</th>\n",
       "      <th>BuildingArea</th>\n",
       "      <th>YearBuilt</th>\n",
       "      <th>CouncilArea</th>\n",
       "      <th>Lattitude</th>\n",
       "      <th>Longtitude</th>\n",
       "      <th>Regionname</th>\n",
       "      <th>Propertycount</th>\n",
       "    </tr>\n",
       "  </thead>\n",
       "  <tbody>\n",
       "    <tr>\n",
       "      <th>0</th>\n",
       "      <td>Abbotsford</td>\n",
       "      <td>85 Turner St</td>\n",
       "      <td>2</td>\n",
       "      <td>h</td>\n",
       "      <td>1480000.0</td>\n",
       "      <td>S</td>\n",
       "      <td>Biggin</td>\n",
       "      <td>3/12/2016</td>\n",
       "      <td>2.5</td>\n",
       "      <td>3067.0</td>\n",
       "      <td>...</td>\n",
       "      <td>1.0</td>\n",
       "      <td>1.0</td>\n",
       "      <td>202.0</td>\n",
       "      <td>NaN</td>\n",
       "      <td>NaN</td>\n",
       "      <td>Yarra</td>\n",
       "      <td>-37.7996</td>\n",
       "      <td>144.9984</td>\n",
       "      <td>Northern Metropolitan</td>\n",
       "      <td>4019.0</td>\n",
       "    </tr>\n",
       "    <tr>\n",
       "      <th>1</th>\n",
       "      <td>Abbotsford</td>\n",
       "      <td>25 Bloomburg St</td>\n",
       "      <td>2</td>\n",
       "      <td>h</td>\n",
       "      <td>1035000.0</td>\n",
       "      <td>S</td>\n",
       "      <td>Biggin</td>\n",
       "      <td>4/02/2016</td>\n",
       "      <td>2.5</td>\n",
       "      <td>3067.0</td>\n",
       "      <td>...</td>\n",
       "      <td>1.0</td>\n",
       "      <td>0.0</td>\n",
       "      <td>156.0</td>\n",
       "      <td>79.0</td>\n",
       "      <td>1900.0</td>\n",
       "      <td>Yarra</td>\n",
       "      <td>-37.8079</td>\n",
       "      <td>144.9934</td>\n",
       "      <td>Northern Metropolitan</td>\n",
       "      <td>4019.0</td>\n",
       "    </tr>\n",
       "    <tr>\n",
       "      <th>2</th>\n",
       "      <td>Abbotsford</td>\n",
       "      <td>5 Charles St</td>\n",
       "      <td>3</td>\n",
       "      <td>h</td>\n",
       "      <td>1465000.0</td>\n",
       "      <td>SP</td>\n",
       "      <td>Biggin</td>\n",
       "      <td>4/03/2017</td>\n",
       "      <td>2.5</td>\n",
       "      <td>3067.0</td>\n",
       "      <td>...</td>\n",
       "      <td>2.0</td>\n",
       "      <td>0.0</td>\n",
       "      <td>134.0</td>\n",
       "      <td>150.0</td>\n",
       "      <td>1900.0</td>\n",
       "      <td>Yarra</td>\n",
       "      <td>-37.8093</td>\n",
       "      <td>144.9944</td>\n",
       "      <td>Northern Metropolitan</td>\n",
       "      <td>4019.0</td>\n",
       "    </tr>\n",
       "    <tr>\n",
       "      <th>3</th>\n",
       "      <td>Abbotsford</td>\n",
       "      <td>40 Federation La</td>\n",
       "      <td>3</td>\n",
       "      <td>h</td>\n",
       "      <td>850000.0</td>\n",
       "      <td>PI</td>\n",
       "      <td>Biggin</td>\n",
       "      <td>4/03/2017</td>\n",
       "      <td>2.5</td>\n",
       "      <td>3067.0</td>\n",
       "      <td>...</td>\n",
       "      <td>2.0</td>\n",
       "      <td>1.0</td>\n",
       "      <td>94.0</td>\n",
       "      <td>NaN</td>\n",
       "      <td>NaN</td>\n",
       "      <td>Yarra</td>\n",
       "      <td>-37.7969</td>\n",
       "      <td>144.9969</td>\n",
       "      <td>Northern Metropolitan</td>\n",
       "      <td>4019.0</td>\n",
       "    </tr>\n",
       "    <tr>\n",
       "      <th>4</th>\n",
       "      <td>Abbotsford</td>\n",
       "      <td>55a Park St</td>\n",
       "      <td>4</td>\n",
       "      <td>h</td>\n",
       "      <td>1600000.0</td>\n",
       "      <td>VB</td>\n",
       "      <td>Nelson</td>\n",
       "      <td>4/06/2016</td>\n",
       "      <td>2.5</td>\n",
       "      <td>3067.0</td>\n",
       "      <td>...</td>\n",
       "      <td>1.0</td>\n",
       "      <td>2.0</td>\n",
       "      <td>120.0</td>\n",
       "      <td>142.0</td>\n",
       "      <td>2014.0</td>\n",
       "      <td>Yarra</td>\n",
       "      <td>-37.8072</td>\n",
       "      <td>144.9941</td>\n",
       "      <td>Northern Metropolitan</td>\n",
       "      <td>4019.0</td>\n",
       "    </tr>\n",
       "  </tbody>\n",
       "</table>\n",
       "<p>5 rows × 21 columns</p>\n",
       "</div>"
      ],
      "text/plain": [
       "       Suburb           Address  Rooms Type      Price Method SellerG  \\\n",
       "0  Abbotsford      85 Turner St      2    h  1480000.0      S  Biggin   \n",
       "1  Abbotsford   25 Bloomburg St      2    h  1035000.0      S  Biggin   \n",
       "2  Abbotsford      5 Charles St      3    h  1465000.0     SP  Biggin   \n",
       "3  Abbotsford  40 Federation La      3    h   850000.0     PI  Biggin   \n",
       "4  Abbotsford       55a Park St      4    h  1600000.0     VB  Nelson   \n",
       "\n",
       "        Date  Distance  Postcode  ...  Bathroom  Car  Landsize  BuildingArea  \\\n",
       "0  3/12/2016       2.5    3067.0  ...       1.0  1.0     202.0           NaN   \n",
       "1  4/02/2016       2.5    3067.0  ...       1.0  0.0     156.0          79.0   \n",
       "2  4/03/2017       2.5    3067.0  ...       2.0  0.0     134.0         150.0   \n",
       "3  4/03/2017       2.5    3067.0  ...       2.0  1.0      94.0           NaN   \n",
       "4  4/06/2016       2.5    3067.0  ...       1.0  2.0     120.0         142.0   \n",
       "\n",
       "   YearBuilt  CouncilArea Lattitude  Longtitude             Regionname  \\\n",
       "0        NaN        Yarra  -37.7996    144.9984  Northern Metropolitan   \n",
       "1     1900.0        Yarra  -37.8079    144.9934  Northern Metropolitan   \n",
       "2     1900.0        Yarra  -37.8093    144.9944  Northern Metropolitan   \n",
       "3        NaN        Yarra  -37.7969    144.9969  Northern Metropolitan   \n",
       "4     2014.0        Yarra  -37.8072    144.9941  Northern Metropolitan   \n",
       "\n",
       "  Propertycount  \n",
       "0        4019.0  \n",
       "1        4019.0  \n",
       "2        4019.0  \n",
       "3        4019.0  \n",
       "4        4019.0  \n",
       "\n",
       "[5 rows x 21 columns]"
      ]
     },
     "execution_count": 2,
     "metadata": {},
     "output_type": "execute_result"
    }
   ],
   "source": [
    "df = pd.read_csv('../input/melbourne-housing-snapshot/melb_data.csv')\n",
    "df.head()"
   ]
  },
  {
   "cell_type": "markdown",
   "id": "58f18637",
   "metadata": {
    "papermill": {
     "duration": 0.014866,
     "end_time": "2021-11-25T11:59:02.205710",
     "exception": false,
     "start_time": "2021-11-25T11:59:02.190844",
     "status": "completed"
    },
    "tags": []
   },
   "source": [
    "**Data Information**"
   ]
  },
  {
   "cell_type": "code",
   "execution_count": 3,
   "id": "329f70d7",
   "metadata": {
    "execution": {
     "iopub.execute_input": "2021-11-25T11:59:02.243060Z",
     "iopub.status.busy": "2021-11-25T11:59:02.242446Z",
     "iopub.status.idle": "2021-11-25T11:59:02.371227Z",
     "shell.execute_reply": "2021-11-25T11:59:02.371676Z",
     "shell.execute_reply.started": "2021-11-25T11:42:40.876841Z"
    },
    "papermill": {
     "duration": 0.151068,
     "end_time": "2021-11-25T11:59:02.371845",
     "exception": false,
     "start_time": "2021-11-25T11:59:02.220777",
     "status": "completed"
    },
    "tags": []
   },
   "outputs": [
    {
     "name": "stdout",
     "output_type": "stream",
     "text": [
      "<class 'pandas.core.frame.DataFrame'>\n",
      "RangeIndex: 13580 entries, 0 to 13579\n",
      "Data columns (total 21 columns):\n",
      " #   Column         Non-Null Count  Dtype  \n",
      "---  ------         --------------  -----  \n",
      " 0   Suburb         13580 non-null  object \n",
      " 1   Address        13580 non-null  object \n",
      " 2   Rooms          13580 non-null  int64  \n",
      " 3   Type           13580 non-null  object \n",
      " 4   Price          13580 non-null  float64\n",
      " 5   Method         13580 non-null  object \n",
      " 6   SellerG        13580 non-null  object \n",
      " 7   Date           13580 non-null  object \n",
      " 8   Distance       13580 non-null  float64\n",
      " 9   Postcode       13580 non-null  float64\n",
      " 10  Bedroom2       13580 non-null  float64\n",
      " 11  Bathroom       13580 non-null  float64\n",
      " 12  Car            13518 non-null  float64\n",
      " 13  Landsize       13580 non-null  float64\n",
      " 14  BuildingArea   7130 non-null   float64\n",
      " 15  YearBuilt      8205 non-null   float64\n",
      " 16  CouncilArea    12211 non-null  object \n",
      " 17  Lattitude      13580 non-null  float64\n",
      " 18  Longtitude     13580 non-null  float64\n",
      " 19  Regionname     13580 non-null  object \n",
      " 20  Propertycount  13580 non-null  float64\n",
      "dtypes: float64(12), int64(1), object(8)\n",
      "memory usage: 2.2+ MB\n"
     ]
    }
   ],
   "source": [
    "df.info()"
   ]
  },
  {
   "cell_type": "markdown",
   "id": "ec25af1a",
   "metadata": {
    "papermill": {
     "duration": 0.015422,
     "end_time": "2021-11-25T11:59:02.402750",
     "exception": false,
     "start_time": "2021-11-25T11:59:02.387328",
     "status": "completed"
    },
    "tags": []
   },
   "source": [
    "**Data Statistics**"
   ]
  },
  {
   "cell_type": "code",
   "execution_count": 4,
   "id": "7746e8d6",
   "metadata": {
    "execution": {
     "iopub.execute_input": "2021-11-25T11:59:02.437407Z",
     "iopub.status.busy": "2021-11-25T11:59:02.436748Z",
     "iopub.status.idle": "2021-11-25T11:59:02.485122Z",
     "shell.execute_reply": "2021-11-25T11:59:02.485577Z",
     "shell.execute_reply.started": "2021-11-25T11:42:40.912310Z"
    },
    "papermill": {
     "duration": 0.067302,
     "end_time": "2021-11-25T11:59:02.485747",
     "exception": false,
     "start_time": "2021-11-25T11:59:02.418445",
     "status": "completed"
    },
    "tags": []
   },
   "outputs": [
    {
     "data": {
      "text/html": [
       "<div>\n",
       "<style scoped>\n",
       "    .dataframe tbody tr th:only-of-type {\n",
       "        vertical-align: middle;\n",
       "    }\n",
       "\n",
       "    .dataframe tbody tr th {\n",
       "        vertical-align: top;\n",
       "    }\n",
       "\n",
       "    .dataframe thead th {\n",
       "        text-align: right;\n",
       "    }\n",
       "</style>\n",
       "<table border=\"1\" class=\"dataframe\">\n",
       "  <thead>\n",
       "    <tr style=\"text-align: right;\">\n",
       "      <th></th>\n",
       "      <th>Rooms</th>\n",
       "      <th>Price</th>\n",
       "      <th>Distance</th>\n",
       "      <th>Postcode</th>\n",
       "      <th>Bedroom2</th>\n",
       "      <th>Bathroom</th>\n",
       "      <th>Car</th>\n",
       "      <th>Landsize</th>\n",
       "      <th>BuildingArea</th>\n",
       "      <th>YearBuilt</th>\n",
       "      <th>Lattitude</th>\n",
       "      <th>Longtitude</th>\n",
       "      <th>Propertycount</th>\n",
       "    </tr>\n",
       "  </thead>\n",
       "  <tbody>\n",
       "    <tr>\n",
       "      <th>count</th>\n",
       "      <td>13580.000000</td>\n",
       "      <td>1.358000e+04</td>\n",
       "      <td>13580.000000</td>\n",
       "      <td>13580.000000</td>\n",
       "      <td>13580.000000</td>\n",
       "      <td>13580.000000</td>\n",
       "      <td>13518.000000</td>\n",
       "      <td>13580.000000</td>\n",
       "      <td>7130.000000</td>\n",
       "      <td>8205.000000</td>\n",
       "      <td>13580.000000</td>\n",
       "      <td>13580.000000</td>\n",
       "      <td>13580.000000</td>\n",
       "    </tr>\n",
       "    <tr>\n",
       "      <th>mean</th>\n",
       "      <td>2.937997</td>\n",
       "      <td>1.075684e+06</td>\n",
       "      <td>10.137776</td>\n",
       "      <td>3105.301915</td>\n",
       "      <td>2.914728</td>\n",
       "      <td>1.534242</td>\n",
       "      <td>1.610075</td>\n",
       "      <td>558.416127</td>\n",
       "      <td>151.967650</td>\n",
       "      <td>1964.684217</td>\n",
       "      <td>-37.809203</td>\n",
       "      <td>144.995216</td>\n",
       "      <td>7454.417378</td>\n",
       "    </tr>\n",
       "    <tr>\n",
       "      <th>std</th>\n",
       "      <td>0.955748</td>\n",
       "      <td>6.393107e+05</td>\n",
       "      <td>5.868725</td>\n",
       "      <td>90.676964</td>\n",
       "      <td>0.965921</td>\n",
       "      <td>0.691712</td>\n",
       "      <td>0.962634</td>\n",
       "      <td>3990.669241</td>\n",
       "      <td>541.014538</td>\n",
       "      <td>37.273762</td>\n",
       "      <td>0.079260</td>\n",
       "      <td>0.103916</td>\n",
       "      <td>4378.581772</td>\n",
       "    </tr>\n",
       "    <tr>\n",
       "      <th>min</th>\n",
       "      <td>1.000000</td>\n",
       "      <td>8.500000e+04</td>\n",
       "      <td>0.000000</td>\n",
       "      <td>3000.000000</td>\n",
       "      <td>0.000000</td>\n",
       "      <td>0.000000</td>\n",
       "      <td>0.000000</td>\n",
       "      <td>0.000000</td>\n",
       "      <td>0.000000</td>\n",
       "      <td>1196.000000</td>\n",
       "      <td>-38.182550</td>\n",
       "      <td>144.431810</td>\n",
       "      <td>249.000000</td>\n",
       "    </tr>\n",
       "    <tr>\n",
       "      <th>25%</th>\n",
       "      <td>2.000000</td>\n",
       "      <td>6.500000e+05</td>\n",
       "      <td>6.100000</td>\n",
       "      <td>3044.000000</td>\n",
       "      <td>2.000000</td>\n",
       "      <td>1.000000</td>\n",
       "      <td>1.000000</td>\n",
       "      <td>177.000000</td>\n",
       "      <td>93.000000</td>\n",
       "      <td>1940.000000</td>\n",
       "      <td>-37.856822</td>\n",
       "      <td>144.929600</td>\n",
       "      <td>4380.000000</td>\n",
       "    </tr>\n",
       "    <tr>\n",
       "      <th>50%</th>\n",
       "      <td>3.000000</td>\n",
       "      <td>9.030000e+05</td>\n",
       "      <td>9.200000</td>\n",
       "      <td>3084.000000</td>\n",
       "      <td>3.000000</td>\n",
       "      <td>1.000000</td>\n",
       "      <td>2.000000</td>\n",
       "      <td>440.000000</td>\n",
       "      <td>126.000000</td>\n",
       "      <td>1970.000000</td>\n",
       "      <td>-37.802355</td>\n",
       "      <td>145.000100</td>\n",
       "      <td>6555.000000</td>\n",
       "    </tr>\n",
       "    <tr>\n",
       "      <th>75%</th>\n",
       "      <td>3.000000</td>\n",
       "      <td>1.330000e+06</td>\n",
       "      <td>13.000000</td>\n",
       "      <td>3148.000000</td>\n",
       "      <td>3.000000</td>\n",
       "      <td>2.000000</td>\n",
       "      <td>2.000000</td>\n",
       "      <td>651.000000</td>\n",
       "      <td>174.000000</td>\n",
       "      <td>1999.000000</td>\n",
       "      <td>-37.756400</td>\n",
       "      <td>145.058305</td>\n",
       "      <td>10331.000000</td>\n",
       "    </tr>\n",
       "    <tr>\n",
       "      <th>max</th>\n",
       "      <td>10.000000</td>\n",
       "      <td>9.000000e+06</td>\n",
       "      <td>48.100000</td>\n",
       "      <td>3977.000000</td>\n",
       "      <td>20.000000</td>\n",
       "      <td>8.000000</td>\n",
       "      <td>10.000000</td>\n",
       "      <td>433014.000000</td>\n",
       "      <td>44515.000000</td>\n",
       "      <td>2018.000000</td>\n",
       "      <td>-37.408530</td>\n",
       "      <td>145.526350</td>\n",
       "      <td>21650.000000</td>\n",
       "    </tr>\n",
       "  </tbody>\n",
       "</table>\n",
       "</div>"
      ],
      "text/plain": [
       "              Rooms         Price      Distance      Postcode      Bedroom2  \\\n",
       "count  13580.000000  1.358000e+04  13580.000000  13580.000000  13580.000000   \n",
       "mean       2.937997  1.075684e+06     10.137776   3105.301915      2.914728   \n",
       "std        0.955748  6.393107e+05      5.868725     90.676964      0.965921   \n",
       "min        1.000000  8.500000e+04      0.000000   3000.000000      0.000000   \n",
       "25%        2.000000  6.500000e+05      6.100000   3044.000000      2.000000   \n",
       "50%        3.000000  9.030000e+05      9.200000   3084.000000      3.000000   \n",
       "75%        3.000000  1.330000e+06     13.000000   3148.000000      3.000000   \n",
       "max       10.000000  9.000000e+06     48.100000   3977.000000     20.000000   \n",
       "\n",
       "           Bathroom           Car       Landsize  BuildingArea    YearBuilt  \\\n",
       "count  13580.000000  13518.000000   13580.000000   7130.000000  8205.000000   \n",
       "mean       1.534242      1.610075     558.416127    151.967650  1964.684217   \n",
       "std        0.691712      0.962634    3990.669241    541.014538    37.273762   \n",
       "min        0.000000      0.000000       0.000000      0.000000  1196.000000   \n",
       "25%        1.000000      1.000000     177.000000     93.000000  1940.000000   \n",
       "50%        1.000000      2.000000     440.000000    126.000000  1970.000000   \n",
       "75%        2.000000      2.000000     651.000000    174.000000  1999.000000   \n",
       "max        8.000000     10.000000  433014.000000  44515.000000  2018.000000   \n",
       "\n",
       "          Lattitude    Longtitude  Propertycount  \n",
       "count  13580.000000  13580.000000   13580.000000  \n",
       "mean     -37.809203    144.995216    7454.417378  \n",
       "std        0.079260      0.103916    4378.581772  \n",
       "min      -38.182550    144.431810     249.000000  \n",
       "25%      -37.856822    144.929600    4380.000000  \n",
       "50%      -37.802355    145.000100    6555.000000  \n",
       "75%      -37.756400    145.058305   10331.000000  \n",
       "max      -37.408530    145.526350   21650.000000  "
      ]
     },
     "execution_count": 4,
     "metadata": {},
     "output_type": "execute_result"
    }
   ],
   "source": [
    "df.describe()"
   ]
  },
  {
   "cell_type": "code",
   "execution_count": 5,
   "id": "de9f0596",
   "metadata": {
    "execution": {
     "iopub.execute_input": "2021-11-25T11:59:02.521314Z",
     "iopub.status.busy": "2021-11-25T11:59:02.520657Z",
     "iopub.status.idle": "2021-11-25T11:59:02.525032Z",
     "shell.execute_reply": "2021-11-25T11:59:02.525528Z",
     "shell.execute_reply.started": "2021-11-25T11:42:40.967073Z"
    },
    "papermill": {
     "duration": 0.023816,
     "end_time": "2021-11-25T11:59:02.525701",
     "exception": false,
     "start_time": "2021-11-25T11:59:02.501885",
     "status": "completed"
    },
    "tags": []
   },
   "outputs": [
    {
     "data": {
      "text/plain": [
       "Index(['Suburb', 'Address', 'Rooms', 'Type', 'Price', 'Method', 'SellerG',\n",
       "       'Date', 'Distance', 'Postcode', 'Bedroom2', 'Bathroom', 'Car',\n",
       "       'Landsize', 'BuildingArea', 'YearBuilt', 'CouncilArea', 'Lattitude',\n",
       "       'Longtitude', 'Regionname', 'Propertycount'],\n",
       "      dtype='object')"
      ]
     },
     "execution_count": 5,
     "metadata": {},
     "output_type": "execute_result"
    }
   ],
   "source": [
    "df.columns"
   ]
  },
  {
   "cell_type": "markdown",
   "id": "736fb80a",
   "metadata": {
    "papermill": {
     "duration": 0.015765,
     "end_time": "2021-11-25T11:59:02.557587",
     "exception": false,
     "start_time": "2021-11-25T11:59:02.541822",
     "status": "completed"
    },
    "tags": []
   },
   "source": [
    "**Features and Target**"
   ]
  },
  {
   "cell_type": "code",
   "execution_count": 6,
   "id": "618c3543",
   "metadata": {
    "execution": {
     "iopub.execute_input": "2021-11-25T11:59:02.593440Z",
     "iopub.status.busy": "2021-11-25T11:59:02.592771Z",
     "iopub.status.idle": "2021-11-25T11:59:02.597709Z",
     "shell.execute_reply": "2021-11-25T11:59:02.598148Z",
     "shell.execute_reply.started": "2021-11-25T11:42:40.976302Z"
    },
    "papermill": {
     "duration": 0.024563,
     "end_time": "2021-11-25T11:59:02.598347",
     "exception": false,
     "start_time": "2021-11-25T11:59:02.573784",
     "status": "completed"
    },
    "tags": []
   },
   "outputs": [],
   "source": [
    "df = df[[\"Rooms\", \n",
    "         \"Distance\", \n",
    "         \"Bedroom2\", \n",
    "         \"Bathroom\", \n",
    "         \"Car\", \n",
    "         \"Landsize\", \n",
    "         \"BuildingArea\", \n",
    "         \"YearBuilt\",\n",
    "         \"Lattitude\",\n",
    "         \"Longtitude\",\n",
    "         \"Price\"]]"
   ]
  },
  {
   "cell_type": "code",
   "execution_count": 7,
   "id": "4835c50c",
   "metadata": {
    "execution": {
     "iopub.execute_input": "2021-11-25T11:59:02.636366Z",
     "iopub.status.busy": "2021-11-25T11:59:02.635700Z",
     "iopub.status.idle": "2021-11-25T11:59:02.651534Z",
     "shell.execute_reply": "2021-11-25T11:59:02.650855Z",
     "shell.execute_reply.started": "2021-11-25T11:42:40.989209Z"
    },
    "papermill": {
     "duration": 0.036502,
     "end_time": "2021-11-25T11:59:02.651687",
     "exception": false,
     "start_time": "2021-11-25T11:59:02.615185",
     "status": "completed"
    },
    "tags": []
   },
   "outputs": [
    {
     "name": "stdout",
     "output_type": "stream",
     "text": [
      "<class 'pandas.core.frame.DataFrame'>\n",
      "Int64Index: 6830 entries, 1 to 13579\n",
      "Data columns (total 11 columns):\n",
      " #   Column        Non-Null Count  Dtype  \n",
      "---  ------        --------------  -----  \n",
      " 0   Rooms         6830 non-null   int64  \n",
      " 1   Distance      6830 non-null   float64\n",
      " 2   Bedroom2      6830 non-null   float64\n",
      " 3   Bathroom      6830 non-null   float64\n",
      " 4   Car           6830 non-null   float64\n",
      " 5   Landsize      6830 non-null   float64\n",
      " 6   BuildingArea  6830 non-null   float64\n",
      " 7   YearBuilt     6830 non-null   float64\n",
      " 8   Lattitude     6830 non-null   float64\n",
      " 9   Longtitude    6830 non-null   float64\n",
      " 10  Price         6830 non-null   float64\n",
      "dtypes: float64(10), int64(1)\n",
      "memory usage: 640.3 KB\n"
     ]
    }
   ],
   "source": [
    "df = df.dropna()\n",
    "df.info()"
   ]
  },
  {
   "cell_type": "code",
   "execution_count": 8,
   "id": "54a0e36d",
   "metadata": {
    "execution": {
     "iopub.execute_input": "2021-11-25T11:59:02.692219Z",
     "iopub.status.busy": "2021-11-25T11:59:02.691016Z",
     "iopub.status.idle": "2021-11-25T11:59:02.692990Z",
     "shell.execute_reply": "2021-11-25T11:59:02.693453Z",
     "shell.execute_reply.started": "2021-11-25T11:42:41.011317Z"
    },
    "papermill": {
     "duration": 0.025219,
     "end_time": "2021-11-25T11:59:02.693621",
     "exception": false,
     "start_time": "2021-11-25T11:59:02.668402",
     "status": "completed"
    },
    "tags": []
   },
   "outputs": [],
   "source": [
    "# Features\n",
    "X = df[df.columns.drop(\"Price\")]\n",
    "\n",
    "# Target\n",
    "y = df[\"Price\"]"
   ]
  },
  {
   "cell_type": "markdown",
   "id": "d99184aa",
   "metadata": {
    "papermill": {
     "duration": 0.017287,
     "end_time": "2021-11-25T11:59:02.727350",
     "exception": false,
     "start_time": "2021-11-25T11:59:02.710063",
     "status": "completed"
    },
    "tags": []
   },
   "source": [
    "### Decision Tree Regression"
   ]
  },
  {
   "cell_type": "code",
   "execution_count": 9,
   "id": "7aa639cb",
   "metadata": {
    "execution": {
     "iopub.execute_input": "2021-11-25T11:59:02.767558Z",
     "iopub.status.busy": "2021-11-25T11:59:02.762961Z",
     "iopub.status.idle": "2021-11-25T11:59:02.840479Z",
     "shell.execute_reply": "2021-11-25T11:59:02.839932Z",
     "shell.execute_reply.started": "2021-11-25T11:42:41.018621Z"
    },
    "papermill": {
     "duration": 0.096876,
     "end_time": "2021-11-25T11:59:02.840620",
     "exception": false,
     "start_time": "2021-11-25T11:59:02.743744",
     "status": "completed"
    },
    "tags": []
   },
   "outputs": [
    {
     "data": {
      "text/html": [
       "<div>\n",
       "<style scoped>\n",
       "    .dataframe tbody tr th:only-of-type {\n",
       "        vertical-align: middle;\n",
       "    }\n",
       "\n",
       "    .dataframe tbody tr th {\n",
       "        vertical-align: top;\n",
       "    }\n",
       "\n",
       "    .dataframe thead th {\n",
       "        text-align: right;\n",
       "    }\n",
       "</style>\n",
       "<table border=\"1\" class=\"dataframe\">\n",
       "  <thead>\n",
       "    <tr style=\"text-align: right;\">\n",
       "      <th></th>\n",
       "      <th>Actual</th>\n",
       "      <th>Peredicted</th>\n",
       "    </tr>\n",
       "  </thead>\n",
       "  <tbody>\n",
       "    <tr>\n",
       "      <th>12652</th>\n",
       "      <td>1900000.0</td>\n",
       "      <td>1900000.0</td>\n",
       "    </tr>\n",
       "    <tr>\n",
       "      <th>11079</th>\n",
       "      <td>1570000.0</td>\n",
       "      <td>1570000.0</td>\n",
       "    </tr>\n",
       "    <tr>\n",
       "      <th>7321</th>\n",
       "      <td>640000.0</td>\n",
       "      <td>640000.0</td>\n",
       "    </tr>\n",
       "    <tr>\n",
       "      <th>4072</th>\n",
       "      <td>550000.0</td>\n",
       "      <td>550000.0</td>\n",
       "    </tr>\n",
       "    <tr>\n",
       "      <th>7550</th>\n",
       "      <td>1000000.0</td>\n",
       "      <td>1000000.0</td>\n",
       "    </tr>\n",
       "    <tr>\n",
       "      <th>11925</th>\n",
       "      <td>640000.0</td>\n",
       "      <td>640000.0</td>\n",
       "    </tr>\n",
       "    <tr>\n",
       "      <th>949</th>\n",
       "      <td>1020000.0</td>\n",
       "      <td>1020000.0</td>\n",
       "    </tr>\n",
       "    <tr>\n",
       "      <th>878</th>\n",
       "      <td>1690000.0</td>\n",
       "      <td>1690000.0</td>\n",
       "    </tr>\n",
       "    <tr>\n",
       "      <th>4645</th>\n",
       "      <td>590000.0</td>\n",
       "      <td>590000.0</td>\n",
       "    </tr>\n",
       "    <tr>\n",
       "      <th>131</th>\n",
       "      <td>1830000.0</td>\n",
       "      <td>1830000.0</td>\n",
       "    </tr>\n",
       "  </tbody>\n",
       "</table>\n",
       "</div>"
      ],
      "text/plain": [
       "          Actual  Peredicted\n",
       "12652  1900000.0   1900000.0\n",
       "11079  1570000.0   1570000.0\n",
       "7321    640000.0    640000.0\n",
       "4072    550000.0    550000.0\n",
       "7550   1000000.0   1000000.0\n",
       "11925   640000.0    640000.0\n",
       "949    1020000.0   1020000.0\n",
       "878    1690000.0   1690000.0\n",
       "4645    590000.0    590000.0\n",
       "131    1830000.0   1830000.0"
      ]
     },
     "execution_count": 9,
     "metadata": {},
     "output_type": "execute_result"
    }
   ],
   "source": [
    "dtr = DecisionTreeRegressor(random_state = 6830)\n",
    "\n",
    "dtr.fit(X, y)\n",
    "\n",
    "pred_dtr = dtr.predict(X)\n",
    "\n",
    "pd.DataFrame({\"Actual\": y,\n",
    "              \"Peredicted\": pred_dtr}).sample(10)"
   ]
  },
  {
   "cell_type": "markdown",
   "id": "be87d134",
   "metadata": {
    "papermill": {
     "duration": 0.017163,
     "end_time": "2021-11-25T11:59:02.874736",
     "exception": false,
     "start_time": "2021-11-25T11:59:02.857573",
     "status": "completed"
    },
    "tags": []
   },
   "source": [
    "**Mean Absolute Error**"
   ]
  },
  {
   "cell_type": "code",
   "execution_count": 10,
   "id": "ebba2ed9",
   "metadata": {
    "execution": {
     "iopub.execute_input": "2021-11-25T11:59:02.913811Z",
     "iopub.status.busy": "2021-11-25T11:59:02.912836Z",
     "iopub.status.idle": "2021-11-25T11:59:02.917078Z",
     "shell.execute_reply": "2021-11-25T11:59:02.917551Z",
     "shell.execute_reply.started": "2021-11-25T11:42:41.107233Z"
    },
    "papermill": {
     "duration": 0.026193,
     "end_time": "2021-11-25T11:59:02.917718",
     "exception": false,
     "start_time": "2021-11-25T11:59:02.891525",
     "status": "completed"
    },
    "tags": []
   },
   "outputs": [
    {
     "data": {
      "text/plain": [
       "392.31332357247436"
      ]
     },
     "execution_count": 10,
     "metadata": {},
     "output_type": "execute_result"
    }
   ],
   "source": [
    "mae = mean_absolute_error(y, pred_dtr)\n",
    "mae"
   ]
  },
  {
   "cell_type": "markdown",
   "id": "6f93b9a4",
   "metadata": {
    "papermill": {
     "duration": 0.016361,
     "end_time": "2021-11-25T11:59:02.950947",
     "exception": false,
     "start_time": "2021-11-25T11:59:02.934586",
     "status": "completed"
    },
    "tags": []
   },
   "source": [
    "### Model Validation"
   ]
  },
  {
   "cell_type": "code",
   "execution_count": 11,
   "id": "c0a497d6",
   "metadata": {
    "execution": {
     "iopub.execute_input": "2021-11-25T11:59:02.988690Z",
     "iopub.status.busy": "2021-11-25T11:59:02.987765Z",
     "iopub.status.idle": "2021-11-25T11:59:02.993204Z",
     "shell.execute_reply": "2021-11-25T11:59:02.993741Z",
     "shell.execute_reply.started": "2021-11-25T11:42:41.116850Z"
    },
    "papermill": {
     "duration": 0.026192,
     "end_time": "2021-11-25T11:59:02.993910",
     "exception": false,
     "start_time": "2021-11-25T11:59:02.967718",
     "status": "completed"
    },
    "tags": []
   },
   "outputs": [],
   "source": [
    "X_train, X_test, y_train, y_test = train_test_split(X,\n",
    "                                                    y,\n",
    "                                                    test_size = 0.2,\n",
    "                                                    random_state = 600)"
   ]
  },
  {
   "cell_type": "code",
   "execution_count": 12,
   "id": "8aece608",
   "metadata": {
    "execution": {
     "iopub.execute_input": "2021-11-25T11:59:03.034755Z",
     "iopub.status.busy": "2021-11-25T11:59:03.030375Z",
     "iopub.status.idle": "2021-11-25T11:59:03.092372Z",
     "shell.execute_reply": "2021-11-25T11:59:03.091846Z",
     "shell.execute_reply.started": "2021-11-25T11:42:41.128329Z"
    },
    "papermill": {
     "duration": 0.081868,
     "end_time": "2021-11-25T11:59:03.092523",
     "exception": false,
     "start_time": "2021-11-25T11:59:03.010655",
     "status": "completed"
    },
    "tags": []
   },
   "outputs": [
    {
     "data": {
      "text/html": [
       "<div>\n",
       "<style scoped>\n",
       "    .dataframe tbody tr th:only-of-type {\n",
       "        vertical-align: middle;\n",
       "    }\n",
       "\n",
       "    .dataframe tbody tr th {\n",
       "        vertical-align: top;\n",
       "    }\n",
       "\n",
       "    .dataframe thead th {\n",
       "        text-align: right;\n",
       "    }\n",
       "</style>\n",
       "<table border=\"1\" class=\"dataframe\">\n",
       "  <thead>\n",
       "    <tr style=\"text-align: right;\">\n",
       "      <th></th>\n",
       "      <th>Actual</th>\n",
       "      <th>Predicted</th>\n",
       "    </tr>\n",
       "  </thead>\n",
       "  <tbody>\n",
       "    <tr>\n",
       "      <th>1561</th>\n",
       "      <td>1650000.0</td>\n",
       "      <td>1725000.0</td>\n",
       "    </tr>\n",
       "    <tr>\n",
       "      <th>7651</th>\n",
       "      <td>910000.0</td>\n",
       "      <td>910000.0</td>\n",
       "    </tr>\n",
       "    <tr>\n",
       "      <th>12098</th>\n",
       "      <td>910000.0</td>\n",
       "      <td>1210000.0</td>\n",
       "    </tr>\n",
       "    <tr>\n",
       "      <th>12993</th>\n",
       "      <td>931000.0</td>\n",
       "      <td>709000.0</td>\n",
       "    </tr>\n",
       "    <tr>\n",
       "      <th>6621</th>\n",
       "      <td>936000.0</td>\n",
       "      <td>915000.0</td>\n",
       "    </tr>\n",
       "    <tr>\n",
       "      <th>10596</th>\n",
       "      <td>386000.0</td>\n",
       "      <td>460000.0</td>\n",
       "    </tr>\n",
       "    <tr>\n",
       "      <th>11800</th>\n",
       "      <td>460000.0</td>\n",
       "      <td>360000.0</td>\n",
       "    </tr>\n",
       "    <tr>\n",
       "      <th>5219</th>\n",
       "      <td>420000.0</td>\n",
       "      <td>270000.0</td>\n",
       "    </tr>\n",
       "    <tr>\n",
       "      <th>712</th>\n",
       "      <td>2435000.0</td>\n",
       "      <td>1620000.0</td>\n",
       "    </tr>\n",
       "    <tr>\n",
       "      <th>11876</th>\n",
       "      <td>580000.0</td>\n",
       "      <td>600000.0</td>\n",
       "    </tr>\n",
       "  </tbody>\n",
       "</table>\n",
       "</div>"
      ],
      "text/plain": [
       "          Actual  Predicted\n",
       "1561   1650000.0  1725000.0\n",
       "7651    910000.0   910000.0\n",
       "12098   910000.0  1210000.0\n",
       "12993   931000.0   709000.0\n",
       "6621    936000.0   915000.0\n",
       "10596   386000.0   460000.0\n",
       "11800   460000.0   360000.0\n",
       "5219    420000.0   270000.0\n",
       "712    2435000.0  1620000.0\n",
       "11876   580000.0   600000.0"
      ]
     },
     "execution_count": 12,
     "metadata": {},
     "output_type": "execute_result"
    }
   ],
   "source": [
    "dtr.fit(X_train, y_train)\n",
    "\n",
    "pred_dtr_t = dtr.predict(X_test)\n",
    "\n",
    "pd.DataFrame({\"Actual\": y_test,\n",
    "             \"Predicted\": pred_dtr_t}).sample(10)"
   ]
  },
  {
   "cell_type": "markdown",
   "id": "49ab49c7",
   "metadata": {
    "papermill": {
     "duration": 0.017119,
     "end_time": "2021-11-25T11:59:03.127693",
     "exception": false,
     "start_time": "2021-11-25T11:59:03.110574",
     "status": "completed"
    },
    "tags": []
   },
   "source": [
    "**Mean Absolute Error (Validation)**"
   ]
  },
  {
   "cell_type": "code",
   "execution_count": 13,
   "id": "4195da30",
   "metadata": {
    "execution": {
     "iopub.execute_input": "2021-11-25T11:59:03.170506Z",
     "iopub.status.busy": "2021-11-25T11:59:03.169827Z",
     "iopub.status.idle": "2021-11-25T11:59:03.172476Z",
     "shell.execute_reply": "2021-11-25T11:59:03.172929Z",
     "shell.execute_reply.started": "2021-11-25T11:42:41.197735Z"
    },
    "papermill": {
     "duration": 0.027616,
     "end_time": "2021-11-25T11:59:03.173090",
     "exception": false,
     "start_time": "2021-11-25T11:59:03.145474",
     "status": "completed"
    },
    "tags": []
   },
   "outputs": [
    {
     "data": {
      "text/plain": [
       "232676.47218155197"
      ]
     },
     "execution_count": 13,
     "metadata": {},
     "output_type": "execute_result"
    }
   ],
   "source": [
    "mae_t = mean_absolute_error(y_test, pred_dtr_t)\n",
    "mae_t"
   ]
  },
  {
   "cell_type": "markdown",
   "id": "194e9048",
   "metadata": {
    "papermill": {
     "duration": 0.017111,
     "end_time": "2021-11-25T11:59:03.207797",
     "exception": false,
     "start_time": "2021-11-25T11:59:03.190686",
     "status": "completed"
    },
    "tags": []
   },
   "source": [
    "### Underfitting and Overfitting"
   ]
  },
  {
   "cell_type": "code",
   "execution_count": 14,
   "id": "86b116fc",
   "metadata": {
    "execution": {
     "iopub.execute_input": "2021-11-25T11:59:03.251389Z",
     "iopub.status.busy": "2021-11-25T11:59:03.250451Z",
     "iopub.status.idle": "2021-11-25T11:59:03.404654Z",
     "shell.execute_reply": "2021-11-25T11:59:03.405167Z",
     "shell.execute_reply.started": "2021-11-25T11:42:41.205616Z"
    },
    "papermill": {
     "duration": 0.179997,
     "end_time": "2021-11-25T11:59:03.405365",
     "exception": false,
     "start_time": "2021-11-25T11:59:03.225368",
     "status": "completed"
    },
    "tags": []
   },
   "outputs": [
    {
     "data": {
      "text/plain": [
       "[327535.47287957754,\n",
       " 245063.0555114401,\n",
       " 237252.0108789654,\n",
       " 225969.12750214303,\n",
       " 218882.16819337526,\n",
       " 218934.63550640174]"
      ]
     },
     "execution_count": 14,
     "metadata": {},
     "output_type": "execute_result"
    }
   ],
   "source": [
    "mln = []\n",
    "\n",
    "for x in [5, 25, 50, 100, 250, 500]:\n",
    "    dt = DecisionTreeRegressor(max_leaf_nodes = x, random_state = 420)\n",
    "    dt.fit(X_train, y_train)\n",
    "    pred_dt = dt.predict(X_test)\n",
    "    mae_ = mean_absolute_error(y_test, pred_dt)\n",
    "    mln.append(mae_)    \n",
    "mln"
   ]
  },
  {
   "cell_type": "markdown",
   "id": "3c923f87",
   "metadata": {
    "execution": {
     "iopub.execute_input": "2021-11-25T11:42:41.368937Z",
     "iopub.status.busy": "2021-11-25T11:42:41.368646Z",
     "iopub.status.idle": "2021-11-25T11:42:41.372429Z",
     "shell.execute_reply": "2021-11-25T11:42:41.371676Z",
     "shell.execute_reply.started": "2021-11-25T11:42:41.368907Z"
    },
    "papermill": {
     "duration": 0.019266,
     "end_time": "2021-11-25T11:59:03.443596",
     "exception": false,
     "start_time": "2021-11-25T11:59:03.424330",
     "status": "completed"
    },
    "tags": []
   },
   "source": [
    "### Random Forest"
   ]
  },
  {
   "cell_type": "code",
   "execution_count": 15,
   "id": "aa377aa8",
   "metadata": {
    "execution": {
     "iopub.execute_input": "2021-11-25T11:59:03.493569Z",
     "iopub.status.busy": "2021-11-25T11:59:03.487588Z",
     "iopub.status.idle": "2021-11-25T11:59:06.449297Z",
     "shell.execute_reply": "2021-11-25T11:59:06.448779Z",
     "shell.execute_reply.started": "2021-11-25T11:45:38.860110Z"
    },
    "papermill": {
     "duration": 2.98648,
     "end_time": "2021-11-25T11:59:06.449439",
     "exception": false,
     "start_time": "2021-11-25T11:59:03.462959",
     "status": "completed"
    },
    "tags": []
   },
   "outputs": [
    {
     "data": {
      "text/html": [
       "<div>\n",
       "<style scoped>\n",
       "    .dataframe tbody tr th:only-of-type {\n",
       "        vertical-align: middle;\n",
       "    }\n",
       "\n",
       "    .dataframe tbody tr th {\n",
       "        vertical-align: top;\n",
       "    }\n",
       "\n",
       "    .dataframe thead th {\n",
       "        text-align: right;\n",
       "    }\n",
       "</style>\n",
       "<table border=\"1\" class=\"dataframe\">\n",
       "  <thead>\n",
       "    <tr style=\"text-align: right;\">\n",
       "      <th></th>\n",
       "      <th>Actual</th>\n",
       "      <th>Predicted</th>\n",
       "    </tr>\n",
       "  </thead>\n",
       "  <tbody>\n",
       "    <tr>\n",
       "      <th>10741</th>\n",
       "      <td>373500.0</td>\n",
       "      <td>4.119550e+05</td>\n",
       "    </tr>\n",
       "    <tr>\n",
       "      <th>2286</th>\n",
       "      <td>510000.0</td>\n",
       "      <td>5.613034e+05</td>\n",
       "    </tr>\n",
       "    <tr>\n",
       "      <th>5025</th>\n",
       "      <td>840000.0</td>\n",
       "      <td>9.094050e+05</td>\n",
       "    </tr>\n",
       "    <tr>\n",
       "      <th>6563</th>\n",
       "      <td>580000.0</td>\n",
       "      <td>6.034850e+05</td>\n",
       "    </tr>\n",
       "    <tr>\n",
       "      <th>1666</th>\n",
       "      <td>3145000.0</td>\n",
       "      <td>2.898065e+06</td>\n",
       "    </tr>\n",
       "    <tr>\n",
       "      <th>5297</th>\n",
       "      <td>1275000.0</td>\n",
       "      <td>1.631252e+06</td>\n",
       "    </tr>\n",
       "    <tr>\n",
       "      <th>8747</th>\n",
       "      <td>1731000.0</td>\n",
       "      <td>1.768410e+06</td>\n",
       "    </tr>\n",
       "    <tr>\n",
       "      <th>10885</th>\n",
       "      <td>1225000.0</td>\n",
       "      <td>8.525050e+05</td>\n",
       "    </tr>\n",
       "    <tr>\n",
       "      <th>5785</th>\n",
       "      <td>616000.0</td>\n",
       "      <td>1.026865e+06</td>\n",
       "    </tr>\n",
       "    <tr>\n",
       "      <th>10563</th>\n",
       "      <td>595000.0</td>\n",
       "      <td>9.197650e+05</td>\n",
       "    </tr>\n",
       "  </tbody>\n",
       "</table>\n",
       "</div>"
      ],
      "text/plain": [
       "          Actual     Predicted\n",
       "10741   373500.0  4.119550e+05\n",
       "2286    510000.0  5.613034e+05\n",
       "5025    840000.0  9.094050e+05\n",
       "6563    580000.0  6.034850e+05\n",
       "1666   3145000.0  2.898065e+06\n",
       "5297   1275000.0  1.631252e+06\n",
       "8747   1731000.0  1.768410e+06\n",
       "10885  1225000.0  8.525050e+05\n",
       "5785    616000.0  1.026865e+06\n",
       "10563   595000.0  9.197650e+05"
      ]
     },
     "execution_count": 15,
     "metadata": {},
     "output_type": "execute_result"
    }
   ],
   "source": [
    "rf = RandomForestRegressor(random_state = 313)\n",
    "\n",
    "rf.fit(X_train, y_train)\n",
    "\n",
    "pred_rf = rf.predict(X_test)\n",
    "\n",
    "pd.DataFrame({\"Actual\": y_test,\n",
    "              \"Predicted\": pred_rf}).sample(10)\n"
   ]
  },
  {
   "cell_type": "markdown",
   "id": "8d030d62",
   "metadata": {
    "papermill": {
     "duration": 0.018153,
     "end_time": "2021-11-25T11:59:06.485852",
     "exception": false,
     "start_time": "2021-11-25T11:59:06.467699",
     "status": "completed"
    },
    "tags": []
   },
   "source": [
    "**mean absolute error (random forest)**"
   ]
  },
  {
   "cell_type": "code",
   "execution_count": 16,
   "id": "ed582518",
   "metadata": {
    "execution": {
     "iopub.execute_input": "2021-11-25T11:59:06.528672Z",
     "iopub.status.busy": "2021-11-25T11:59:06.527327Z",
     "iopub.status.idle": "2021-11-25T11:59:06.533137Z",
     "shell.execute_reply": "2021-11-25T11:59:06.532519Z",
     "shell.execute_reply.started": "2021-11-25T11:46:42.804555Z"
    },
    "papermill": {
     "duration": 0.028993,
     "end_time": "2021-11-25T11:59:06.533302",
     "exception": false,
     "start_time": "2021-11-25T11:59:06.504309",
     "status": "completed"
    },
    "tags": []
   },
   "outputs": [
    {
     "data": {
      "text/plain": [
       "159333.66556857"
      ]
     },
     "execution_count": 16,
     "metadata": {},
     "output_type": "execute_result"
    }
   ],
   "source": [
    "mae_rf = mean_absolute_error(y_test, pred_rf)\n",
    "mae_rf"
   ]
  },
  {
   "cell_type": "markdown",
   "id": "21687784",
   "metadata": {
    "execution": {
     "iopub.execute_input": "2021-11-25T11:49:10.414169Z",
     "iopub.status.busy": "2021-11-25T11:49:10.413251Z",
     "iopub.status.idle": "2021-11-25T11:49:10.418184Z",
     "shell.execute_reply": "2021-11-25T11:49:10.417597Z",
     "shell.execute_reply.started": "2021-11-25T11:49:10.414130Z"
    },
    "papermill": {
     "duration": 0.0184,
     "end_time": "2021-11-25T11:59:06.571548",
     "exception": false,
     "start_time": "2021-11-25T11:59:06.553148",
     "status": "completed"
    },
    "tags": []
   },
   "source": [
    "**Mean absolute error by using DECISION TREE is above 20 thousand but by using RANDOM FOREST is approximately 16 tousand**"
   ]
  }
 ],
 "metadata": {
  "kernelspec": {
   "display_name": "Python 3",
   "language": "python",
   "name": "python3"
  },
  "language_info": {
   "codemirror_mode": {
    "name": "ipython",
    "version": 3
   },
   "file_extension": ".py",
   "mimetype": "text/x-python",
   "name": "python",
   "nbconvert_exporter": "python",
   "pygments_lexer": "ipython3",
   "version": "3.7.10"
  },
  "papermill": {
   "default_parameters": {},
   "duration": 17.58342,
   "end_time": "2021-11-25T11:59:09.631368",
   "environment_variables": {},
   "exception": null,
   "input_path": "__notebook__.ipynb",
   "output_path": "__notebook__.ipynb",
   "parameters": {},
   "start_time": "2021-11-25T11:58:52.047948",
   "version": "2.3.3"
  }
 },
 "nbformat": 4,
 "nbformat_minor": 5
}
